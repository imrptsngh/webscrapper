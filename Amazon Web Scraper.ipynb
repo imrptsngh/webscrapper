{
 "cells": [
  {
   "cell_type": "code",
   "execution_count": 5,
   "id": "4b58418c",
   "metadata": {},
   "outputs": [],
   "source": [
    "import csv\n",
    "from bs4 import BeautifulSoup\n",
    "from selenium import webdriver"
   ]
  },
  {
   "cell_type": "code",
   "execution_count": 6,
   "id": "6e28c77c",
   "metadata": {},
   "outputs": [
    {
     "name": "stderr",
     "output_type": "stream",
     "text": [
      "\n",
      "\n",
      "====== WebDriver manager ======\n",
      "Current google-chrome version is 91.0.4472\n",
      "Get LATEST driver version for 91.0.4472\n",
      "There is no [mac64] chromedriver for browser 91.0.4472 in cache\n",
      "Get LATEST driver version for 91.0.4472\n",
      "Trying to download new driver from https://chromedriver.storage.googleapis.com/91.0.4472.101/chromedriver_mac64.zip\n",
      "Driver has been saved in cache [/Users/arpit_singh/.wdm/drivers/chromedriver/mac64/91.0.4472.101]\n"
     ]
    }
   ],
   "source": [
    "from webdriver_manager.chrome import ChromeDriverManager\n",
    "driver = webdriver.Chrome(ChromeDriverManager().install())"
   ]
  },
  {
   "cell_type": "code",
   "execution_count": 14,
   "id": "95b31612",
   "metadata": {},
   "outputs": [],
   "source": [
    "url = \"https://www.amazon.in\"\n",
    "driver.get(url)"
   ]
  },
  {
   "cell_type": "code",
   "execution_count": 22,
   "id": "6a175c69",
   "metadata": {},
   "outputs": [
    {
     "name": "stdout",
     "output_type": "stream",
     "text": [
      "['https://www.amazon.in/s?k=wireless+mouse&page=1', 'https://www.amazon.in/s?k=wireless+mouse&page=2', 'https://www.amazon.in/s?k=wireless+mouse&page=3', 'https://www.amazon.in/s?k=wireless+mouse&page=4', 'https://www.amazon.in/s?k=wireless+mouse&page=5', 'https://www.amazon.in/s?k=wireless+mouse&page=6', 'https://www.amazon.in/s?k=wireless+mouse&page=7', 'https://www.amazon.in/s?k=wireless+mouse&page=8', 'https://www.amazon.in/s?k=wireless+mouse&page=9', 'https://www.amazon.in/s?k=wireless+mouse&page=10', 'https://www.amazon.in/s?k=wireless+mouse&page=11', 'https://www.amazon.in/s?k=wireless+mouse&page=12', 'https://www.amazon.in/s?k=wireless+mouse&page=13', 'https://www.amazon.in/s?k=wireless+mouse&page=14', 'https://www.amazon.in/s?k=wireless+mouse&page=15', 'https://www.amazon.in/s?k=wireless+mouse&page=16', 'https://www.amazon.in/s?k=wireless+mouse&page=17', 'https://www.amazon.in/s?k=wireless+mouse&page=18', 'https://www.amazon.in/s?k=wireless+mouse&page=19', 'https://www.amazon.in/s?k=wireless+mouse&page=20']\n"
     ]
    }
   ],
   "source": [
    "def get_url(search_term):\n",
    "    lst = []\n",
    "    template = \"https://www.amazon.in/s?k={0}&page={1}\"\n",
    "    search_term = search_term.replace(' ', '+')\n",
    "    for page in range(1,21):\n",
    "        url = template.format(search_term,page)\n",
    "        lst.append(url)\n",
    "    return lst\n",
    "print(get_url('wireless mouse'))"
   ]
  },
  {
   "cell_type": "code",
   "execution_count": 4,
   "id": "34a1277c",
   "metadata": {},
   "outputs": [
    {
     "ename": "NameError",
     "evalue": "name 'url' is not defined",
     "output_type": "error",
     "traceback": [
      "\u001b[0;31m---------------------------------------------------------------------------\u001b[0m",
      "\u001b[0;31mNameError\u001b[0m                                 Traceback (most recent call last)",
      "\u001b[0;32m/var/folders/3g/6lb7kxb56y74pyn3bd3v8zz80000gp/T/ipykernel_68052/4205285308.py\u001b[0m in \u001b[0;36m<module>\u001b[0;34m\u001b[0m\n\u001b[1;32m      1\u001b[0m \u001b[0;32mfor\u001b[0m \u001b[0mpage\u001b[0m \u001b[0;32min\u001b[0m \u001b[0mrange\u001b[0m\u001b[0;34m(\u001b[0m\u001b[0;36m1\u001b[0m\u001b[0;34m,\u001b[0m\u001b[0;36m21\u001b[0m\u001b[0;34m)\u001b[0m\u001b[0;34m:\u001b[0m\u001b[0;34m\u001b[0m\u001b[0;34m\u001b[0m\u001b[0m\n\u001b[0;32m----> 2\u001b[0;31m     \u001b[0murl\u001b[0m\u001b[0;34m.\u001b[0m\u001b[0mformat\u001b[0m\u001b[0;34m(\u001b[0m\u001b[0mpage\u001b[0m\u001b[0;34m)\u001b[0m\u001b[0;34m\u001b[0m\u001b[0;34m\u001b[0m\u001b[0m\n\u001b[0m\u001b[1;32m      3\u001b[0m     \u001b[0mprint\u001b[0m\u001b[0;34m(\u001b[0m\u001b[0murl\u001b[0m\u001b[0;34m)\u001b[0m\u001b[0;34m\u001b[0m\u001b[0;34m\u001b[0m\u001b[0m\n\u001b[1;32m      4\u001b[0m \u001b[0;34m\u001b[0m\u001b[0m\n\u001b[1;32m      5\u001b[0m \u001b[0murl\u001b[0m \u001b[0;34m=\u001b[0m \u001b[0mget_url\u001b[0m\u001b[0;34m(\u001b[0m\u001b[0;34m'ultrawide monitor'\u001b[0m\u001b[0;34m)\u001b[0m\u001b[0;34m\u001b[0m\u001b[0;34m\u001b[0m\u001b[0m\n",
      "\u001b[0;31mNameError\u001b[0m: name 'url' is not defined"
     ]
    }
   ],
   "source": [
    "\n",
    "    url.format(page)\n",
    "    print(url)\n",
    "    \n",
    "url = get_url('ultrawide monitor')"
   ]
  },
  {
   "cell_type": "code",
   "execution_count": 19,
   "id": "7eff532f",
   "metadata": {},
   "outputs": [],
   "source": [
    "driver.get(url)"
   ]
  },
  {
   "cell_type": "code",
   "execution_count": 20,
   "id": "5b804aab",
   "metadata": {},
   "outputs": [],
   "source": [
    "soup = BeautifulSoup(driver.page_source, 'html.parser')"
   ]
  },
  {
   "cell_type": "code",
   "execution_count": 21,
   "id": "8fa4fe27",
   "metadata": {},
   "outputs": [],
   "source": [
    "results = soup.find_all('div', {'data-component-type': 's-search-result'})"
   ]
  },
  {
   "cell_type": "code",
   "execution_count": 23,
   "id": "8b8c6df2",
   "metadata": {},
   "outputs": [
    {
     "data": {
      "text/plain": [
       "22"
      ]
     },
     "execution_count": 23,
     "metadata": {},
     "output_type": "execute_result"
    }
   ],
   "source": [
    "len(results)"
   ]
  },
  {
   "cell_type": "code",
   "execution_count": 24,
   "id": "ffe71162",
   "metadata": {},
   "outputs": [],
   "source": [
    "item = results[0]\n",
    "atag = item.h2.a"
   ]
  },
  {
   "cell_type": "code",
   "execution_count": 26,
   "id": "bbda5715",
   "metadata": {},
   "outputs": [
    {
     "name": "stdout",
     "output_type": "stream",
     "text": [
      "LG UltraWide 34 Inch WFHD (2560 x 1080) IPS Display - HDR 10, AMD Free sync, sRGB 99%, Multitasking and Gaming Monitor - 34WL500\n"
     ]
    }
   ],
   "source": [
    "description = atag.text.strip()\n",
    "print(description)"
   ]
  },
  {
   "cell_type": "code",
   "execution_count": 28,
   "id": "d9c00240",
   "metadata": {},
   "outputs": [
    {
     "name": "stdout",
     "output_type": "stream",
     "text": [
      "https://www.amazon.in/gp/slredirect/picassoRedirect.html/ref=pa_sp_atf_aps_sr_pg1_1?ie=UTF8&adId=A08705441PEQ45MBCRBM6&url=%2FLG-UltraWide-Inch-WFHD-Display%2Fdp%2FB08CF4LZT1%2Fref%3Dsr_1_1_sspa%3Fdchild%3D1%26keywords%3Dultrawide%2Bmonitor%26qid%3D1627210161%26sr%3D8-1-spons%26psc%3D1&qualifier=1627210161&id=4555384618752665&widgetName=sp_atf\n"
     ]
    }
   ],
   "source": [
    "product_url = 'https://www.amazon.in' + atag.get('href')\n",
    "print(product_url)"
   ]
  },
  {
   "cell_type": "code",
   "execution_count": 30,
   "id": "04f98eee",
   "metadata": {},
   "outputs": [
    {
     "name": "stdout",
     "output_type": "stream",
     "text": [
      "₹27,999\n"
     ]
    }
   ],
   "source": [
    "price_parent = item.find('span', 'a-price')\n",
    "price = price_parent.find('span', 'a-offscreen').text\n",
    "print(price)"
   ]
  },
  {
   "cell_type": "code",
   "execution_count": 31,
   "id": "dbac7397",
   "metadata": {},
   "outputs": [
    {
     "name": "stdout",
     "output_type": "stream",
     "text": [
      "4.3 out of 5 stars\n"
     ]
    }
   ],
   "source": [
    "rating = item.i.text\n",
    "print(rating)"
   ]
  },
  {
   "cell_type": "code",
   "execution_count": 34,
   "id": "d944d410",
   "metadata": {},
   "outputs": [
    {
     "name": "stdout",
     "output_type": "stream",
     "text": [
      "None\n"
     ]
    }
   ],
   "source": [
    "review_count = item.find('span', {'class':'a-size-base', 'dir':'auto'})\n",
    "print(review_count)"
   ]
  },
  {
   "cell_type": "code",
   "execution_count": 36,
   "id": "24f41c84",
   "metadata": {},
   "outputs": [],
   "source": [
    "def extract_record(item):\n",
    "    atag = item.h2.a\n",
    "    description = atag.text.strip()\n",
    "    product_url = 'https://www.amazon.in' + atag.get('href')\n",
    "    try:\n",
    "        price_parent = item.find('span', 'a-price')\n",
    "        price = price_parent.find('span', 'a-offscreen').text\n",
    "    except AttributeError:\n",
    "        return\n",
    "    try: \n",
    "        rating = item.i.text\n",
    "    except AttributeError:\n",
    "        rating = ''\n",
    "    \n",
    "    result = (description,price,rating,product_url)\n",
    "    return result"
   ]
  },
  {
   "cell_type": "code",
   "execution_count": 38,
   "id": "ba5e3d41",
   "metadata": {},
   "outputs": [],
   "source": [
    "records = []\n",
    "results = soup.find_all('div', {'data-component-type': 's-search-result'})\n",
    "\n",
    "for item in results:\n",
    "    record = extract_record(item)\n",
    "    if record:\n",
    "        records.append(record)\n",
    "        "
   ]
  },
  {
   "cell_type": "code",
   "execution_count": 39,
   "id": "cefc6ff9",
   "metadata": {},
   "outputs": [
    {
     "data": {
      "text/plain": [
       "('LG UltraWide 34 Inch WFHD (2560 x 1080) IPS Display - HDR 10, AMD Free sync, sRGB 99%, Multitasking and Gaming Monitor - 34WL500',\n",
       " '₹27,999',\n",
       " '4.3 out of 5 stars',\n",
       " 'https://www.amazon.in/gp/slredirect/picassoRedirect.html/ref=pa_sp_atf_aps_sr_pg1_1?ie=UTF8&adId=A08705441PEQ45MBCRBM6&url=%2FLG-UltraWide-Inch-WFHD-Display%2Fdp%2FB08CF4LZT1%2Fref%3Dsr_1_1_sspa%3Fdchild%3D1%26keywords%3Dultrawide%2Bmonitor%26qid%3D1627210161%26sr%3D8-1-spons%26psc%3D1&qualifier=1627210161&id=4555384618752665&widgetName=sp_atf')"
      ]
     },
     "execution_count": 39,
     "metadata": {},
     "output_type": "execute_result"
    }
   ],
   "source": [
    "records[0]"
   ]
  },
  {
   "cell_type": "code",
   "execution_count": null,
   "id": "28554695",
   "metadata": {},
   "outputs": [],
   "source": []
  },
  {
   "cell_type": "code",
   "execution_count": null,
   "id": "7461c639",
   "metadata": {},
   "outputs": [],
   "source": []
  },
  {
   "cell_type": "markdown",
   "id": "4c0ace66",
   "metadata": {},
   "source": [
    "## Compiled Form"
   ]
  },
  {
   "cell_type": "code",
   "execution_count": 35,
   "id": "2df9e384",
   "metadata": {},
   "outputs": [],
   "source": [
    "import csv\n",
    "from bs4 import BeautifulSoup\n",
    "from selenium import webdriver\n",
    "from webdriver_manager.chrome import ChromeDriverManager\n",
    "\n",
    "def get_url(search_term):\n",
    "    lst = []\n",
    "    template = \"https://www.amazon.in/s?k={0}&page={1}\"\n",
    "    search_term = search_term.replace(' ', '+')\n",
    "    for page in range(1,21):\n",
    "        url = template.format(search_term,page)\n",
    "        lst.append(url)\n",
    "    return lst\n",
    "\n",
    "lst = get_url('sugar')\n",
    "\n",
    "def extract_record(item):\n",
    "    atag = item.h2.a\n",
    "    description = atag.text.strip()\n",
    "    product_url = 'https://www.amazon.in' + atag.get('href')\n",
    "    try:\n",
    "        price_parent = item.find('span', 'a-price')\n",
    "        price = price_parent.find('span', 'a-offscreen').text\n",
    "    except AttributeError:\n",
    "        return\n",
    "    try: \n",
    "        rating = item.i.text\n",
    "    except AttributeError:\n",
    "        rating = ''\n",
    "    \n",
    "    result = (description,price,rating,product_url)\n",
    "    return result\n",
    "\n",
    "def main(search_term):\n",
    "    driver = webdriver.Chrome(ChromeDriverManager().install())\n",
    "    records = []\n",
    "    url = get_url(search_term)\n",
    "    try:\n",
    "        for element in lst:\n",
    "            driver.get(element)\n",
    "            soup = BeautifulSoup(driver.page_source, 'html.parser')\n",
    "            results = soup.find_all('div', {'data-component-type': 's-search-result'})\n",
    "\n",
    "            for item in results:\n",
    "                record = extract_record(item)\n",
    "                if record:\n",
    "                    records.append(record)\n",
    "    except AttributeError:\n",
    "        return\n",
    "    driver.close()\n",
    "    \n",
    "    with open('OutputCSV/Food&Beverages/sugar.csv','w',newline='', encoding='utf-8') as f:\n",
    "        writer = csv.writer(f)\n",
    "        writer.writerow(['Description', 'Price', 'Rating', 'Product URL'])\n",
    "        writer.writerows(records)\n",
    "                "
   ]
  },
  {
   "cell_type": "code",
   "execution_count": 36,
   "id": "4a63b0cf",
   "metadata": {},
   "outputs": [
    {
     "name": "stderr",
     "output_type": "stream",
     "text": [
      "\n",
      "\n",
      "====== WebDriver manager ======\n",
      "Current google-chrome version is 91.0.4472\n",
      "Get LATEST driver version for 91.0.4472\n",
      "Driver [/Users/arpit_singh/.wdm/drivers/chromedriver/mac64/91.0.4472.101/chromedriver] found in cache\n"
     ]
    }
   ],
   "source": [
    "main('sugar')"
   ]
  },
  {
   "cell_type": "code",
   "execution_count": null,
   "id": "0c1e4c8c",
   "metadata": {},
   "outputs": [],
   "source": []
  }
 ],
 "metadata": {
  "kernelspec": {
   "display_name": "Python 3 (ipykernel)",
   "language": "python",
   "name": "python3"
  },
  "language_info": {
   "codemirror_mode": {
    "name": "ipython",
    "version": 3
   },
   "file_extension": ".py",
   "mimetype": "text/x-python",
   "name": "python",
   "nbconvert_exporter": "python",
   "pygments_lexer": "ipython3",
   "version": "3.9.6"
  }
 },
 "nbformat": 4,
 "nbformat_minor": 5
}
